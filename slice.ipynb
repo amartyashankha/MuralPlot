{
 "cells": [
  {
   "cell_type": "code",
   "execution_count": 1,
   "metadata": {
    "collapsed": false,
    "deletable": true,
    "editable": true
   },
   "outputs": [],
   "source": [
    "import xml.etree.ElementTree as ET\n",
    "import numpy as np\n",
    "from svg.path import parse_path\n",
    "import matplotlib.pyplot as plt\n",
    "%matplotlib inline"
   ]
  },
  {
   "cell_type": "code",
   "execution_count": 2,
   "metadata": {
    "collapsed": false,
    "deletable": true,
    "editable": true
   },
   "outputs": [],
   "source": [
    "tree = ET.parse('brain.svg')\n",
    "root = tree.getroot()\n",
    "\n",
    "svg = list(root.findall('*'))[-1]"
   ]
  },
  {
   "cell_type": "code",
   "execution_count": 13,
   "metadata": {
    "collapsed": false,
    "deletable": true,
    "editable": true
   },
   "outputs": [],
   "source": [
    "resolution = 2\n",
    "error = 1e-6\n",
    "polygons = []\n",
    "for p in list(svg.findall('{http://www.w3.org/2000/svg}path')):\n",
    "    path = parse_path(p.get('d'))\n",
    "    num_points = int(path.length(error=error)*resolution)\n",
    "    points = [path.point(i/num_points, error=error) for i in range(num_points)]\n",
    "    points = [np.array([point.real, point.imag]) for point in points]\n",
    "    polygons.append(points)"
   ]
  },
  {
   "cell_type": "code",
   "execution_count": 33,
   "metadata": {
    "collapsed": false,
    "scrolled": true
   },
   "outputs": [],
   "source": [
    "def transform(point, origin, theta):\n",
    "    R = np.array([[np.cos(theta), np.sin(theta)], [-np.sin(theta), np.cos(theta)]])\n",
    "    return R.dot(np.array(point-origin))"
   ]
  },
  {
   "cell_type": "code",
   "execution_count": 70,
   "metadata": {
    "collapsed": false
   },
   "outputs": [],
   "source": [
    "def check_bounds(point, max_coord):\n",
    "    return 0<point[0]<max_coord[0] and 0<point[1]<max_coord[1] "
   ]
  },
  {
   "cell_type": "code",
   "execution_count": 77,
   "metadata": {
    "collapsed": true
   },
   "outputs": [],
   "source": [
    "def bound_box(polygons, Ox, Oy, theta, max_x, max_y):\n",
    "    origin = np.array([Ox, Oy])\n",
    "    max_coord = np.array([max_x, max_y])\n",
    "    new_polygons = []\n",
    "    for polygon in polygons:\n",
    "        new_polygon = []\n",
    "        for point in polygon+[[float('inf'), 0]]:\n",
    "            p = transform(point, origin, theta)\n",
    "            if check_bounds(p, max_coord):\n",
    "                new_polygon.append(p)\n",
    "            elif len(new_polygon) > 0:\n",
    "                new_polygons.append(new_polygon)\n",
    "                new_polygon = []\n",
    "    return new_polygons"
   ]
  },
  {
   "cell_type": "code",
   "execution_count": 75,
   "metadata": {
    "collapsed": true
   },
   "outputs": [],
   "source": [
    "def scatter_my_ass(polygons):\n",
    "    x_values = []\n",
    "    y_values = []\n",
    "\n",
    "    for polygon in polygons:\n",
    "        x_values += [point[0] for point in polygon]\n",
    "        y_values += [point[1] for point in polygon]\n",
    "    \n",
    "    fig, ax = plt.subplots(figsize=(10, 10))\n",
    "    ax.scatter(x_values, y_values, s=0.1)"
   ]
  },
  {
   "cell_type": "code",
   "execution_count": 90,
   "metadata": {
    "collapsed": false
   },
   "outputs": [
    {
     "data": {
      "image/png": "[encoded data removed]",
      "text/plain": [
       "<matplotlib.figure.Figure at 0x7efc6eeb3e48>"
      ]
     },
     "metadata": {},
     "output_type": "display_data"
    }
   ],
   "source": [
    "new_polygons = bound_box(polygons, 30, 30, 0.78, 100, 100)\n",
    "scatter_my_ass(new_polygons)"
   ]
  },
  {
   "cell_type": "code",
   "execution_count": 69,
   "metadata": {
    "collapsed": false
   },
   "outputs": [
    {
     "data": {
      "text/plain": [
       "[]"
      ]
     },
     "execution_count": 69,
     "metadata": {},
     "output_type": "execute_result"
    }
   ],
   "source": [
    "new_polygons"
   ]
  },
  {
   "cell_type": "code",
   "execution_count": null,
   "metadata": {
    "collapsed": true
   },
   "outputs": [],
   "source": []
  }
 ],
 "metadata": {
  "kernelspec": {
   "display_name": "Python 3",
   "language": "python",
   "name": "python3"
  },
  "language_info": {
   "codemirror_mode": {
    "name": "ipython",
    "version": 3
   },
   "file_extension": ".py",
   "mimetype": "text/x-python",
   "name": "python",
   "nbconvert_exporter": "python",
   "pygments_lexer": "ipython3",
   "version": "3.5.2"
  }
 },
 "nbformat": 4,
 "nbformat_minor": 2
}
